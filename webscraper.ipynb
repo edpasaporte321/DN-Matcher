{
 "cells": [
  {
   "cell_type": "code",
   "execution_count": 1,
   "id": "4af82986",
   "metadata": {},
   "outputs": [],
   "source": [
    "from selenium import webdriver\n",
    "from selenium.webdriver.common.by import By\n",
    "import time\n",
    "import os\n",
    "docid = \"2395717\""
   ]
  },
  {
   "cell_type": "code",
   "execution_count": 2,
   "id": "0bd640d9",
   "metadata": {},
   "outputs": [],
   "source": [
    "driver = webdriver.Edge()\n",
    "driver.get(\"https://advance.lexis.com/\")\n"
   ]
  },
  {
   "cell_type": "code",
   "execution_count": null,
   "id": "6eb2d27b",
   "metadata": {},
   "outputs": [],
   "source": [
    "def startUp():\n",
    "    loginIdField = driver.find_element(By.XPATH, '//*[@id=\"userid\"]')\n",
    "    loginButton1 = driver.find_element(By.XPATH, '//*[@id=\"signInSbmtBtn\"]')\n",
    "    loginIdField.send_keys(input(\"Enter your LexisNexis login ID: \"))\n",
    "    loginButton1.click()\n",
    "    time.sleep(10)\n",
    "    passwordField = driver.find_element(By.XPATH, '//*[@id=\"password\"]')\n",
    "    passwordField.send_keys(input(\"Enter your LexisNexis password: \"))\n",
    "    time.sleep(2)\n",
    "    loginButton2 = driver.find_element(By.XPATH, '//*[@id=\"next\"]')\n",
    "    loginButton2.click()\n",
    "    time.sleep(5)\n",
    "    try:\n",
    "        productSwitcher = driver.find_element(By.CSS_SELECTOR, 'em.icon.wide')\n",
    "        productSwitcher.click()\n",
    "    except:\n",
    "        print(\"Login failed.\")\n",
    "    else:\n",
    "        pgButton = driver.find_element(By.XPATH, '//*[@id=\"1000522\"]')\n",
    "        pgButton.click()\n",
    "        driver.find_element(By.CSS_SELECTOR, 'i.icon.la-CloseRemove.close-btn').click()\n",
    "\n",
    "def inputDocId(driver, docid):\n",
    "    searchField = driver.find_element(By.XPATH, '//*[@id=\"searchTerms\"]')\n",
    "    searchField.send_keys(f\"docid=0ZHX-0ZHX_{docid}\")\n",
    "    searchButton = driver.find_element(By.CSS_SELECTOR, 'button.icon.la-Search')\n",
    "    searchButton.click()\n",
    "    searchResult = driver.find_element(By.CSS_SELECTOR, 'a[data-action=\"title\"]')\n",
    "    searchResult.click()\n",
    "    driver.execute_script(\"document.getElementById('searchTerms').value = '';\")\n",
    "\n"
   ]
  },
  {
   "cell_type": "code",
   "execution_count": 4,
   "id": "f3343db4",
   "metadata": {},
   "outputs": [
    {
     "ename": "NoSuchElementException",
     "evalue": "Message: no such element: Unable to locate element: {\"method\":\"css selector\",\"selector\":\"em.icon.wide\"}\n  (Session info: MicrosoftEdge=141.0.3537.71); For documentation on this error, please visit: https://www.selenium.dev/documentation/webdriver/troubleshooting/errors#nosuchelementexception\nStacktrace:\n\tGetHandleVerifier [0x0x7ff763bc2a75+51877]\n\tGetHandleVerifier [0x0x7ff763bc2ad4+51972]\n\tGetHandleVerifier [0x0x7ff763d79425+1848405]\n\t(No symbol) [0x0x7ff76398045b]\n\t(No symbol) [0x0x7ff76398071b]\n\t(No symbol) [0x0x7ff7639c1927]\n\t(No symbol) [0x0x7ff7639a216f]\n\t(No symbol) [0x0x7ff76397667b]\n\t(No symbol) [0x0x7ff7639bf3d2]\n\t(No symbol) [0x0x7ff7639a1df3]\n\t(No symbol) [0x0x7ff763975b36]\n\t(No symbol) [0x0x7ff763974d80]\n\t(No symbol) [0x0x7ff763975973]\n\t(No symbol) [0x0x7ff763a3e4a5]\n\t(No symbol) [0x0x7ff763a3a75d]\n\tGetHandleVerifier [0x0x7ff763bed2b3+226019]\n\tGetHandleVerifier [0x0x7ff763bdc481+156849]\n\tGetHandleVerifier [0x0x7ff763be4979+190889]\n\tGetHandleVerifier [0x0x7ff763bc9bb4+80868]\n\tGetHandleVerifier [0x0x7ff763bc9d03+81203]\n\tGetHandleVerifier [0x0x7ff763bb8286+8886]\n\tBaseThreadInitThunk [0x0x7ffe007de8d7+23]\n\tRtlUserThreadStart [0x0x7ffe01cc8d9c+44]\n",
     "output_type": "error",
     "traceback": [
      "\u001b[31m---------------------------------------------------------------------------\u001b[39m",
      "\u001b[31mNoSuchElementException\u001b[39m                    Traceback (most recent call last)",
      "\u001b[36mCell\u001b[39m\u001b[36m \u001b[39m\u001b[32mIn[4]\u001b[39m\u001b[32m, line 1\u001b[39m\n\u001b[32m----> \u001b[39m\u001b[32m1\u001b[39m \u001b[43mstartUp\u001b[49m\u001b[43m(\u001b[49m\u001b[43m)\u001b[49m\n\u001b[32m      2\u001b[39m inputDocId(driver, docid)\n",
      "\u001b[36mCell\u001b[39m\u001b[36m \u001b[39m\u001b[32mIn[3]\u001b[39m\u001b[32m, line 13\u001b[39m, in \u001b[36mstartUp\u001b[39m\u001b[34m()\u001b[39m\n\u001b[32m     11\u001b[39m loginButton2.click()\n\u001b[32m     12\u001b[39m time.sleep(\u001b[32m5\u001b[39m)\n\u001b[32m---> \u001b[39m\u001b[32m13\u001b[39m productSwitcher = \u001b[43mdriver\u001b[49m\u001b[43m.\u001b[49m\u001b[43mfind_element\u001b[49m\u001b[43m(\u001b[49m\u001b[43mBy\u001b[49m\u001b[43m.\u001b[49m\u001b[43mCSS_SELECTOR\u001b[49m\u001b[43m,\u001b[49m\u001b[43m \u001b[49m\u001b[33;43m'\u001b[39;49m\u001b[33;43mem.icon.wide\u001b[39;49m\u001b[33;43m'\u001b[39;49m\u001b[43m)\u001b[49m\n\u001b[32m     14\u001b[39m productSwitcher.click()\n\u001b[32m     15\u001b[39m pgButton = driver.find_element(By.XPATH, \u001b[33m'\u001b[39m\u001b[33m//*[@id=\u001b[39m\u001b[33m\"\u001b[39m\u001b[33m1000522\u001b[39m\u001b[33m\"\u001b[39m\u001b[33m]\u001b[39m\u001b[33m'\u001b[39m)\n",
      "\u001b[36mFile \u001b[39m\u001b[32mc:\\Users\\Pasapore\\Downloads\\DN Project Files\\DN-Matcher\\.env\\Lib\\site-packages\\selenium\\webdriver\\remote\\webdriver.py:926\u001b[39m, in \u001b[36mWebDriver.find_element\u001b[39m\u001b[34m(self, by, value)\u001b[39m\n\u001b[32m    923\u001b[39m         \u001b[38;5;28;01mraise\u001b[39;00m NoSuchElementException(\u001b[33mf\u001b[39m\u001b[33m\"\u001b[39m\u001b[33mCannot locate relative element with: \u001b[39m\u001b[38;5;132;01m{\u001b[39;00mby.root\u001b[38;5;132;01m}\u001b[39;00m\u001b[33m\"\u001b[39m)\n\u001b[32m    924\u001b[39m     \u001b[38;5;28;01mreturn\u001b[39;00m elements[\u001b[32m0\u001b[39m]\n\u001b[32m--> \u001b[39m\u001b[32m926\u001b[39m \u001b[38;5;28;01mreturn\u001b[39;00m \u001b[38;5;28;43mself\u001b[39;49m\u001b[43m.\u001b[49m\u001b[43mexecute\u001b[49m\u001b[43m(\u001b[49m\u001b[43mCommand\u001b[49m\u001b[43m.\u001b[49m\u001b[43mFIND_ELEMENT\u001b[49m\u001b[43m,\u001b[49m\u001b[43m \u001b[49m\u001b[43m{\u001b[49m\u001b[33;43m\"\u001b[39;49m\u001b[33;43musing\u001b[39;49m\u001b[33;43m\"\u001b[39;49m\u001b[43m:\u001b[49m\u001b[43m \u001b[49m\u001b[43mby\u001b[49m\u001b[43m,\u001b[49m\u001b[43m \u001b[49m\u001b[33;43m\"\u001b[39;49m\u001b[33;43mvalue\u001b[39;49m\u001b[33;43m\"\u001b[39;49m\u001b[43m:\u001b[49m\u001b[43m \u001b[49m\u001b[43mvalue\u001b[49m\u001b[43m}\u001b[49m\u001b[43m)\u001b[49m[\u001b[33m\"\u001b[39m\u001b[33mvalue\u001b[39m\u001b[33m\"\u001b[39m]\n",
      "\u001b[36mFile \u001b[39m\u001b[32mc:\\Users\\Pasapore\\Downloads\\DN Project Files\\DN-Matcher\\.env\\Lib\\site-packages\\selenium\\webdriver\\remote\\webdriver.py:458\u001b[39m, in \u001b[36mWebDriver.execute\u001b[39m\u001b[34m(self, driver_command, params)\u001b[39m\n\u001b[32m    455\u001b[39m response = cast(RemoteConnection, \u001b[38;5;28mself\u001b[39m.command_executor).execute(driver_command, params)\n\u001b[32m    457\u001b[39m \u001b[38;5;28;01mif\u001b[39;00m response:\n\u001b[32m--> \u001b[39m\u001b[32m458\u001b[39m     \u001b[38;5;28;43mself\u001b[39;49m\u001b[43m.\u001b[49m\u001b[43merror_handler\u001b[49m\u001b[43m.\u001b[49m\u001b[43mcheck_response\u001b[49m\u001b[43m(\u001b[49m\u001b[43mresponse\u001b[49m\u001b[43m)\u001b[49m\n\u001b[32m    459\u001b[39m     response[\u001b[33m\"\u001b[39m\u001b[33mvalue\u001b[39m\u001b[33m\"\u001b[39m] = \u001b[38;5;28mself\u001b[39m._unwrap_value(response.get(\u001b[33m\"\u001b[39m\u001b[33mvalue\u001b[39m\u001b[33m\"\u001b[39m, \u001b[38;5;28;01mNone\u001b[39;00m))\n\u001b[32m    460\u001b[39m     \u001b[38;5;28;01mreturn\u001b[39;00m response\n",
      "\u001b[36mFile \u001b[39m\u001b[32mc:\\Users\\Pasapore\\Downloads\\DN Project Files\\DN-Matcher\\.env\\Lib\\site-packages\\selenium\\webdriver\\remote\\errorhandler.py:232\u001b[39m, in \u001b[36mErrorHandler.check_response\u001b[39m\u001b[34m(self, response)\u001b[39m\n\u001b[32m    230\u001b[39m         alert_text = value[\u001b[33m\"\u001b[39m\u001b[33malert\u001b[39m\u001b[33m\"\u001b[39m].get(\u001b[33m\"\u001b[39m\u001b[33mtext\u001b[39m\u001b[33m\"\u001b[39m)\n\u001b[32m    231\u001b[39m     \u001b[38;5;28;01mraise\u001b[39;00m exception_class(message, screen, stacktrace, alert_text)  \u001b[38;5;66;03m# type: ignore[call-arg]  # mypy is not smart enough here\u001b[39;00m\n\u001b[32m--> \u001b[39m\u001b[32m232\u001b[39m \u001b[38;5;28;01mraise\u001b[39;00m exception_class(message, screen, stacktrace)\n",
      "\u001b[31mNoSuchElementException\u001b[39m: Message: no such element: Unable to locate element: {\"method\":\"css selector\",\"selector\":\"em.icon.wide\"}\n  (Session info: MicrosoftEdge=141.0.3537.71); For documentation on this error, please visit: https://www.selenium.dev/documentation/webdriver/troubleshooting/errors#nosuchelementexception\nStacktrace:\n\tGetHandleVerifier [0x0x7ff763bc2a75+51877]\n\tGetHandleVerifier [0x0x7ff763bc2ad4+51972]\n\tGetHandleVerifier [0x0x7ff763d79425+1848405]\n\t(No symbol) [0x0x7ff76398045b]\n\t(No symbol) [0x0x7ff76398071b]\n\t(No symbol) [0x0x7ff7639c1927]\n\t(No symbol) [0x0x7ff7639a216f]\n\t(No symbol) [0x0x7ff76397667b]\n\t(No symbol) [0x0x7ff7639bf3d2]\n\t(No symbol) [0x0x7ff7639a1df3]\n\t(No symbol) [0x0x7ff763975b36]\n\t(No symbol) [0x0x7ff763974d80]\n\t(No symbol) [0x0x7ff763975973]\n\t(No symbol) [0x0x7ff763a3e4a5]\n\t(No symbol) [0x0x7ff763a3a75d]\n\tGetHandleVerifier [0x0x7ff763bed2b3+226019]\n\tGetHandleVerifier [0x0x7ff763bdc481+156849]\n\tGetHandleVerifier [0x0x7ff763be4979+190889]\n\tGetHandleVerifier [0x0x7ff763bc9bb4+80868]\n\tGetHandleVerifier [0x0x7ff763bc9d03+81203]\n\tGetHandleVerifier [0x0x7ff763bb8286+8886]\n\tBaseThreadInitThunk [0x0x7ffe007de8d7+23]\n\tRtlUserThreadStart [0x0x7ffe01cc8d9c+44]\n"
     ]
    }
   ],
   "source": [
    "startUp()\n",
    "inputDocId(driver, docid)"
   ]
  },
  {
   "cell_type": "code",
   "execution_count": null,
   "id": "b89225e0",
   "metadata": {},
   "outputs": [],
   "source": [
    "loginIdField = driver.find_element(By.XPATH, '//*[@id=\"userid\"]')\n",
    "loginButton1 = driver.find_element(By.XPATH, '//*[@id=\"signInSbmtBtn\"]')\n",
    "loginIdField.send_keys(input(\"Enter your LexisNexis login ID: \"))\n",
    "loginButton1.click()\n",
    "time.sleep(10)\n",
    "passwordField = driver.find_element(By.XPATH, '//*[@id=\"password\"]')\n",
    "passwordField.send_keys(input(\"Enter your LexisNexis password: \"))\n",
    "time.sleep(2)\n",
    "loginButton2 = driver.find_element(By.XPATH, '//*[@id=\"next\"]')\n",
    "loginButton2.click()\n",
    "time.sleep(5)\n",
    "productSwitcher = driver.find_element(By.CSS_SELECTOR, 'em.icon.wide')\n",
    "productSwitcher.click()\n",
    "pgButton = driver.find_element(By.XPATH, '//*[@id=\"1000522\"]')\n",
    "pgButton.click()\n",
    "driver.find_element(By.CSS_SELECTOR, 'i.icon.la-CloseRemove.close-btn').click()"
   ]
  },
  {
   "cell_type": "code",
   "execution_count": null,
   "id": "9eaf65a4",
   "metadata": {},
   "outputs": [],
   "source": [
    "productSwitcher = driver.find_element(By.CSS_SELECTOR, 'em.icon.wide')\n",
    "productSwitcher.click()\n",
    "pgButton = driver.find_element(By.XPATH, '//*[@id=\"1000522\"]')\n",
    "pgButton.click()\n",
    "driver.find_element(By.CSS_SELECTOR, 'i.icon.la-CloseRemove.close-btn').click()"
   ]
  },
  {
   "cell_type": "code",
   "execution_count": 12,
   "id": "5700508f",
   "metadata": {},
   "outputs": [],
   "source": [
    "driver.find_element(By.CSS_SELECTOR, 'i.icon.la-CloseRemove.close-btn').click()"
   ]
  },
  {
   "cell_type": "code",
   "execution_count": null,
   "id": "b0070903",
   "metadata": {},
   "outputs": [],
   "source": []
  },
  {
   "cell_type": "code",
   "execution_count": null,
   "id": "88addb19",
   "metadata": {},
   "outputs": [],
   "source": []
  },
  {
   "cell_type": "code",
   "execution_count": null,
   "id": "60b8ded4",
   "metadata": {},
   "outputs": [
    {
     "name": "stdout",
     "output_type": "stream",
     "text": [
      "Logged in = False\n",
      "Login failed. Please try again.\n"
     ]
    }
   ],
   "source": [
    "try:\n",
    "    inputDocId(docid)\n",
    "    loggedIn = True\n",
    "    print(f\"Logged in = {loggedIn}\")\n",
    "    pass\n",
    "except:\n",
    "    loggedIn = False\n",
    "    print(f\"Logged in = {loggedIn}\")\n",
    "    pass\n",
    "    \n",
    "if loggedIn == False:\n",
    "    try: \n",
    "        loggingIn()\n",
    "    except:\n",
    "        print(\"Login failed. Please try again.\")\n",
    "        driver.get(\"https://www.advance.lexis.com\")\n",
    "    else:\n",
    "        try:\n",
    "            inputDocId(docid)\n",
    "        except:\n",
    "            print(\"Login failed. Please try again.\")\n",
    "            driver.get(\"https://www.advance.lexis.com\")\n",
    "        else: \n",
    "            print(\"Login is successful.\")\n",
    "        pass\n",
    "\n",
    "else:\n",
    "    pass"
   ]
  },
  {
   "cell_type": "code",
   "execution_count": 10,
   "id": "dbed96bf",
   "metadata": {},
   "outputs": [],
   "source": [
    "driver.quit()"
   ]
  },
  {
   "cell_type": "code",
   "execution_count": 15,
   "id": "8b9ccac2",
   "metadata": {},
   "outputs": [
    {
     "name": "stdout",
     "output_type": "stream",
     "text": [
      "Login is successful.\n"
     ]
    }
   ],
   "source": [
    "try:\n",
    "    searchField = driver.find_element(By.XPATH, '//*[@id=\"searchTerms\"]')\n",
    "    searchField.send_keys(f\"docid=0ZHX-0ZHX_{docid}\")\n",
    "except:\n",
    "    print(\"Login failed. Please try again.\")\n",
    "    driver.get(\"https://www.advance.lexis.com\")\n",
    "else: \n",
    "    print(\"Login is successful.\")"
   ]
  },
  {
   "cell_type": "code",
   "execution_count": 18,
   "id": "45f4f5e8",
   "metadata": {},
   "outputs": [],
   "source": [
    "driver.quit()"
   ]
  },
  {
   "cell_type": "code",
   "execution_count": 12,
   "id": "7eadf211",
   "metadata": {},
   "outputs": [],
   "source": [
    "searchField = driver.find_element(By.XPATH, '//*[@id=\"searchTerms\"]')\n",
    "searchField.send_keys(f\"docid=0ZHX-0ZHX_{docid}\")"
   ]
  },
  {
   "cell_type": "code",
   "execution_count": null,
   "id": "68cfdb58",
   "metadata": {},
   "outputs": [],
   "source": [
    "try:\n",
    "    searchField = driver.find_element(By.XPATH, '//*[@id=\"searchTerms\"]')\n",
    "    searchField.send_keys(f\"docid=0ZHX-0ZHX_{docid}\")\n",
    "except:\n",
    "    print(\"Element not found\")\n",
    "    loginIdField = driver.find_element(By.XPATH, '//*[@id=\"userid\"]')\n",
    "    loginButton1 = driver.find_element(By.XPATH, '//*[@id=\"signInSbmtBtn\"]')\n",
    "    loginIdField.send_keys(\"test1\")\n",
    "    loginButton1.click()\n",
    "    time.sleep(2)\n",
    "    passwordField = driver.find_element(By.XPATH, '//*[@id=\"password\"]')\n",
    "    passwordField.send_keys(\"Test@123\")\n",
    "    time.sleep(2)\n",
    "    loginButton2 = driver.find_element(By.XPATH, '//*[@id=\"signInSbmtBtn\"]')\n",
    "    loginButton2.click()"
   ]
  },
  {
   "cell_type": "code",
   "execution_count": 16,
   "id": "b0d5a883",
   "metadata": {},
   "outputs": [],
   "source": [
    "loginButton2 = driver.find_element(By.XPATH, '//*[@id=\"signInSbmtBtn\"]')\n",
    "loginButton2.click()"
   ]
  },
  {
   "cell_type": "code",
   "execution_count": 19,
   "id": "efea079d",
   "metadata": {},
   "outputs": [],
   "source": [
    "driver.quit()"
   ]
  },
  {
   "cell_type": "code",
   "execution_count": null,
   "id": "07494447",
   "metadata": {},
   "outputs": [],
   "source": []
  },
  {
   "cell_type": "code",
   "execution_count": null,
   "id": "7844f6ca",
   "metadata": {},
   "outputs": [],
   "source": []
  },
  {
   "cell_type": "code",
   "execution_count": null,
   "id": "85811106",
   "metadata": {},
   "outputs": [],
   "source": []
  }
 ],
 "metadata": {
  "kernelspec": {
   "display_name": ".env",
   "language": "python",
   "name": "python3"
  },
  "language_info": {
   "codemirror_mode": {
    "name": "ipython",
    "version": 3
   },
   "file_extension": ".py",
   "mimetype": "text/x-python",
   "name": "python",
   "nbconvert_exporter": "python",
   "pygments_lexer": "ipython3",
   "version": "3.11.4"
  }
 },
 "nbformat": 4,
 "nbformat_minor": 5
}
