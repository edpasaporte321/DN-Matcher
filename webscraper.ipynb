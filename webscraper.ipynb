{
 "cells": [
  {
   "cell_type": "code",
   "execution_count": 1,
   "id": "4af82986",
   "metadata": {},
   "outputs": [],
   "source": [
    "from selenium import webdriver\n",
    "from selenium.webdriver.common.by import By\n",
    "import time\n",
    "import os\n",
    "docid = \"2395717\""
   ]
  },
  {
   "cell_type": "code",
   "execution_count": 2,
   "id": "0bd640d9",
   "metadata": {},
   "outputs": [],
   "source": [
    "driver = webdriver.Edge()\n",
    "driver.get(\"https://advance.lexis.com/\")\n"
   ]
  },
  {
   "cell_type": "code",
   "execution_count": null,
   "id": "6eb2d27b",
   "metadata": {},
   "outputs": [],
   "source": [
    "def startUp():\n",
    "    loginIdField = driver.find_element(By.XPATH, '//*[@id=\"userid\"]')\n",
    "    loginButton1 = driver.find_element(By.XPATH, '//*[@id=\"signInSbmtBtn\"]')\n",
    "    loginIdField.send_keys(input(\"Enter your LexisNexis login ID: \"))\n",
    "    loginButton1.click()\n",
    "    time.sleep(10)\n",
    "    passwordField = driver.find_element(By.XPATH, '//*[@id=\"password\"]')\n",
    "    passwordField.send_keys(input(\"Enter your LexisNexis password: \"))\n",
    "    time.sleep(2)\n",
    "    loginButton2 = driver.find_element(By.XPATH, '//*[@id=\"next\"]')\n",
    "    loginButton2.click()\n",
    "    time.sleep(5)\n",
    "    productSwitcher = driver.find_element(By.CSS_SELECTOR, 'em.icon.wide')\n",
    "    productSwitcher.click()\n",
    "    pgButton = driver.find_element(By.XPATH, '//*[@id=\"1000522\"]')\n",
    "    pgButton.click()\n",
    "    driver.find_element(By.CSS_SELECTOR, 'i.icon.la-CloseRemove.close-btn').click()\n",
    "\n",
    "def inputDocId(driver, docid):\n",
    "    searchField = driver.find_element(By.XPATH, '//*[@id=\"searchTerms\"]')\n",
    "    searchField.send_keys(f\"docid=0ZHX-0ZHX_{docid}\")\n",
    "    searchButton = driver.find_element(By.CSS_SELECTOR, 'button.icon.la-Search')\n",
    "    searchButton.click()\n",
    "    searchResult = driver.find_element(By.CSS_SELECTOR, 'a[data-action=\"title\"]')\n",
    "    searchResult.click()\n",
    "    driver.execute_script(\"document.getElementById('searchTerms').value = '';\")\n",
    "\n"
   ]
  },
  {
   "cell_type": "code",
   "execution_count": null,
   "id": "b89225e0",
   "metadata": {},
   "outputs": [],
   "source": [
    "loginIdField = driver.find_element(By.XPATH, '//*[@id=\"userid\"]')\n",
    "loginButton1 = driver.find_element(By.XPATH, '//*[@id=\"signInSbmtBtn\"]')\n",
    "loginIdField.send_keys(input(\"Enter your LexisNexis login ID: \"))\n",
    "loginButton1.click()\n",
    "time.sleep(10)\n",
    "passwordField = driver.find_element(By.XPATH, '//*[@id=\"password\"]')\n",
    "passwordField.send_keys(input(\"Enter your LexisNexis password: \"))\n",
    "time.sleep(2)\n",
    "loginButton2 = driver.find_element(By.XPATH, '//*[@id=\"next\"]')\n",
    "loginButton2.click()\n",
    "time.sleep(5)\n",
    "productSwitcher = driver.find_element(By.CSS_SELECTOR, 'em.icon.wide')\n",
    "productSwitcher.click()\n",
    "pgButton = driver.find_element(By.XPATH, '//*[@id=\"1000522\"]')\n",
    "pgButton.click()\n",
    "driver.find_element(By.CSS_SELECTOR, 'i.icon.la-CloseRemove.close-btn').click()"
   ]
  },
  {
   "cell_type": "code",
   "execution_count": null,
   "id": "9eaf65a4",
   "metadata": {},
   "outputs": [],
   "source": [
    "productSwitcher = driver.find_element(By.CSS_SELECTOR, 'em.icon.wide')\n",
    "productSwitcher.click()\n",
    "pgButton = driver.find_element(By.XPATH, '//*[@id=\"1000522\"]')\n",
    "pgButton.click()\n",
    "driver.find_element(By.CSS_SELECTOR, 'i.icon.la-CloseRemove.close-btn').click()"
   ]
  },
  {
   "cell_type": "code",
   "execution_count": 12,
   "id": "5700508f",
   "metadata": {},
   "outputs": [],
   "source": [
    "driver.find_element(By.CSS_SELECTOR, 'i.icon.la-CloseRemove.close-btn').click()"
   ]
  },
  {
   "cell_type": "code",
   "execution_count": null,
   "id": "b0070903",
   "metadata": {},
   "outputs": [],
   "source": []
  },
  {
   "cell_type": "code",
   "execution_count": null,
   "id": "88addb19",
   "metadata": {},
   "outputs": [],
   "source": []
  },
  {
   "cell_type": "code",
   "execution_count": null,
   "id": "60b8ded4",
   "metadata": {},
   "outputs": [
    {
     "name": "stdout",
     "output_type": "stream",
     "text": [
      "Logged in = False\n",
      "Login failed. Please try again.\n"
     ]
    }
   ],
   "source": [
    "try:\n",
    "    inputDocId(docid)\n",
    "    loggedIn = True\n",
    "    print(f\"Logged in = {loggedIn}\")\n",
    "    pass\n",
    "except:\n",
    "    loggedIn = False\n",
    "    print(f\"Logged in = {loggedIn}\")\n",
    "    pass\n",
    "    \n",
    "if loggedIn == False:\n",
    "    try: \n",
    "        loggingIn()\n",
    "    except:\n",
    "        print(\"Login failed. Please try again.\")\n",
    "        driver.get(\"https://www.advance.lexis.com\")\n",
    "    else:\n",
    "        try:\n",
    "            inputDocId(docid)\n",
    "        except:\n",
    "            print(\"Login failed. Please try again.\")\n",
    "            driver.get(\"https://www.advance.lexis.com\")\n",
    "        else: \n",
    "            print(\"Login is successful.\")\n",
    "        pass\n",
    "\n",
    "else:\n",
    "    pass"
   ]
  },
  {
   "cell_type": "code",
   "execution_count": 10,
   "id": "dbed96bf",
   "metadata": {},
   "outputs": [],
   "source": [
    "driver.quit()"
   ]
  },
  {
   "cell_type": "code",
   "execution_count": 15,
   "id": "8b9ccac2",
   "metadata": {},
   "outputs": [
    {
     "name": "stdout",
     "output_type": "stream",
     "text": [
      "Login is successful.\n"
     ]
    }
   ],
   "source": [
    "try:\n",
    "    searchField = driver.find_element(By.XPATH, '//*[@id=\"searchTerms\"]')\n",
    "    searchField.send_keys(f\"docid=0ZHX-0ZHX_{docid}\")\n",
    "except:\n",
    "    print(\"Login failed. Please try again.\")\n",
    "    driver.get(\"https://www.advance.lexis.com\")\n",
    "else: \n",
    "    print(\"Login is successful.\")"
   ]
  },
  {
   "cell_type": "code",
   "execution_count": 18,
   "id": "45f4f5e8",
   "metadata": {},
   "outputs": [],
   "source": [
    "driver.quit()"
   ]
  },
  {
   "cell_type": "code",
   "execution_count": 12,
   "id": "7eadf211",
   "metadata": {},
   "outputs": [],
   "source": [
    "searchField = driver.find_element(By.XPATH, '//*[@id=\"searchTerms\"]')\n",
    "searchField.send_keys(f\"docid=0ZHX-0ZHX_{docid}\")"
   ]
  },
  {
   "cell_type": "code",
   "execution_count": null,
   "id": "68cfdb58",
   "metadata": {},
   "outputs": [],
   "source": [
    "try:\n",
    "    searchField = driver.find_element(By.XPATH, '//*[@id=\"searchTerms\"]')\n",
    "    searchField.send_keys(f\"docid=0ZHX-0ZHX_{docid}\")\n",
    "except:\n",
    "    print(\"Element not found\")\n",
    "    loginIdField = driver.find_element(By.XPATH, '//*[@id=\"userid\"]')\n",
    "    loginButton1 = driver.find_element(By.XPATH, '//*[@id=\"signInSbmtBtn\"]')\n",
    "    loginIdField.send_keys(\"test1\")\n",
    "    loginButton1.click()\n",
    "    time.sleep(2)\n",
    "    passwordField = driver.find_element(By.XPATH, '//*[@id=\"password\"]')\n",
    "    passwordField.send_keys(\"Test@123\")\n",
    "    time.sleep(2)\n",
    "    loginButton2 = driver.find_element(By.XPATH, '//*[@id=\"signInSbmtBtn\"]')\n",
    "    loginButton2.click()"
   ]
  },
  {
   "cell_type": "code",
   "execution_count": 16,
   "id": "b0d5a883",
   "metadata": {},
   "outputs": [],
   "source": [
    "loginButton2 = driver.find_element(By.XPATH, '//*[@id=\"signInSbmtBtn\"]')\n",
    "loginButton2.click()"
   ]
  },
  {
   "cell_type": "code",
   "execution_count": 19,
   "id": "efea079d",
   "metadata": {},
   "outputs": [],
   "source": [
    "driver.quit()"
   ]
  },
  {
   "cell_type": "code",
   "execution_count": null,
   "id": "07494447",
   "metadata": {},
   "outputs": [],
   "source": []
  },
  {
   "cell_type": "code",
   "execution_count": null,
   "id": "7844f6ca",
   "metadata": {},
   "outputs": [],
   "source": []
  },
  {
   "cell_type": "code",
   "execution_count": null,
   "id": "85811106",
   "metadata": {},
   "outputs": [],
   "source": []
  }
 ],
 "metadata": {
  "kernelspec": {
   "display_name": ".env",
   "language": "python",
   "name": "python3"
  },
  "language_info": {
   "codemirror_mode": {
    "name": "ipython",
    "version": 3
   },
   "file_extension": ".py",
   "mimetype": "text/x-python",
   "name": "python",
   "nbconvert_exporter": "python",
   "pygments_lexer": "ipython3",
   "version": "3.11.4"
  }
 },
 "nbformat": 4,
 "nbformat_minor": 5
}
